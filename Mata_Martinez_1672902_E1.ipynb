{
 "cells": [
  {
   "cell_type": "markdown",
   "metadata": {},
   "source": [
    "# Examen 2: Ejercicios de Python. #"
   ]
  },
  {
   "cell_type": "markdown",
   "metadata": {},
   "source": [
    "## Mata Martínez Missael ##"
   ]
  },
  {
   "cell_type": "markdown",
   "metadata": {},
   "source": [
    "Al momento de responder las preguntas, cerciorense de que les imprima el resultado."
   ]
  },
  {
   "cell_type": "markdown",
   "metadata": {},
   "source": [
    "## 1.- Dando lista A = [3, 2, 7, 4, 12, 9, 6, 1] desarrolla los siguientes 3 ejercicios.¶ ##\n",
    "\n",
    "- Imprime la sumatoria de todos los elementos.\n",
    "- Ordenalos de mayor a menor.\n",
    "- Haz una nueva lista pero solo con sus elementos pares."
   ]
  },
  {
   "cell_type": "code",
   "execution_count": 1,
   "metadata": {},
   "outputs": [],
   "source": [
    "ListaA = [3, 2, 7, 4, 12, 9, 6, 1] "
   ]
  },
  {
   "cell_type": "markdown",
   "metadata": {},
   "source": [
    "Para imprimir la sumatoria de todos los elementos:"
   ]
  },
  {
   "cell_type": "code",
   "execution_count": 2,
   "metadata": {},
   "outputs": [
    {
     "data": {
      "text/plain": [
       "44"
      ]
     },
     "execution_count": 2,
     "metadata": {},
     "output_type": "execute_result"
    }
   ],
   "source": [
    "sum(ListaA)\n"
   ]
  },
  {
   "cell_type": "markdown",
   "metadata": {},
   "source": [
    "Para ordenarlos de mayor a menor:"
   ]
  },
  {
   "cell_type": "code",
   "execution_count": 8,
   "metadata": {},
   "outputs": [
    {
     "name": "stdout",
     "output_type": "stream",
     "text": [
      "[1, 2, 3, 4, 6, 7, 9, 12]\n"
     ]
    }
   ],
   "source": [
    "ListaA.sort()\n",
    "print(ListaA)"
   ]
  },
  {
   "cell_type": "markdown",
   "metadata": {},
   "source": [
    "Para crear una nueva lista solo con elementos pares:"
   ]
  },
  {
   "cell_type": "code",
   "execution_count": 57,
   "metadata": {},
   "outputs": [
    {
     "name": "stdout",
     "output_type": "stream",
     "text": [
      "[2, 4, 12, 6]\n"
     ]
    }
   ],
   "source": [
    "def DamePares(num):\n",
    "    pares = []\n",
    "    for i in num:\n",
    "        if i%2==0:\n",
    "            pares.append(i)\n",
    "    return pares\n",
    "\n",
    "ListaNueva = DamePares(ListaA)\n",
    "print(ListaNueva)\n",
    "\n"
   ]
  },
  {
   "cell_type": "markdown",
   "metadata": {},
   "source": [
    "## 2.- Dale valor a dos variables y realiza 5 funciones que regresen como resultado diferentes operaciones aritmeticas (suma, resta, etc...). ##"
   ]
  },
  {
   "cell_type": "markdown",
   "metadata": {},
   "source": [
    "Declaramos las 5 funciones:"
   ]
  },
  {
   "cell_type": "code",
   "execution_count": 26,
   "metadata": {},
   "outputs": [],
   "source": [
    "def suma(a,b):\n",
    "    return a + b\n",
    "\n",
    "def resta(a,b):\n",
    "    return a - b\n",
    "\n",
    "def multiplicacion(a,b):\n",
    "    return a * b\n",
    "\n",
    "def division(a,b):\n",
    "    return a / b\n",
    "\n",
    "def residuo(a,b):\n",
    "    return a % b"
   ]
  },
  {
   "cell_type": "code",
   "execution_count": 32,
   "metadata": {},
   "outputs": [],
   "source": [
    "x = 2\n",
    "y = 4"
   ]
  },
  {
   "cell_type": "code",
   "execution_count": 33,
   "metadata": {},
   "outputs": [
    {
     "data": {
      "text/plain": [
       "6"
      ]
     },
     "execution_count": 33,
     "metadata": {},
     "output_type": "execute_result"
    }
   ],
   "source": [
    "suma(x,y)"
   ]
  },
  {
   "cell_type": "code",
   "execution_count": 34,
   "metadata": {},
   "outputs": [
    {
     "data": {
      "text/plain": [
       "-2"
      ]
     },
     "execution_count": 34,
     "metadata": {},
     "output_type": "execute_result"
    }
   ],
   "source": [
    "resta(x,y)"
   ]
  },
  {
   "cell_type": "code",
   "execution_count": 35,
   "metadata": {},
   "outputs": [
    {
     "data": {
      "text/plain": [
       "8"
      ]
     },
     "execution_count": 35,
     "metadata": {},
     "output_type": "execute_result"
    }
   ],
   "source": [
    "multiplicacion(x,y)"
   ]
  },
  {
   "cell_type": "code",
   "execution_count": 36,
   "metadata": {},
   "outputs": [
    {
     "data": {
      "text/plain": [
       "0.5"
      ]
     },
     "execution_count": 36,
     "metadata": {},
     "output_type": "execute_result"
    }
   ],
   "source": [
    "division(x,y)"
   ]
  },
  {
   "cell_type": "code",
   "execution_count": 37,
   "metadata": {},
   "outputs": [
    {
     "data": {
      "text/plain": [
       "2"
      ]
     },
     "execution_count": 37,
     "metadata": {},
     "output_type": "execute_result"
    }
   ],
   "source": [
    "residuo(x,y)"
   ]
  },
  {
   "cell_type": "markdown",
   "metadata": {},
   "source": [
    "## 3.- Dada la lista A = [3, 2, 7, 4, 12, 9, 6, 1] y lista B = [13, 16, 21, 34, 18, 17, 11, 10] crea una lista nueva que contenga solo los datos impares de ambas listas. ##"
   ]
  },
  {
   "cell_type": "markdown",
   "metadata": {},
   "source": [
    "Declaramos las 2 listas:"
   ]
  },
  {
   "cell_type": "code",
   "execution_count": 39,
   "metadata": {},
   "outputs": [],
   "source": [
    "ListaA = [3, 2, 7, 4, 12, 9, 6, 1]\n",
    "ListaB = [13, 16, 21, 34, 18, 17, 11, 10] "
   ]
  },
  {
   "cell_type": "markdown",
   "metadata": {},
   "source": [
    "Podemos hacer por medio de un metodo para encontrar solo los valores impares de ambas listas:    "
   ]
  },
  {
   "cell_type": "code",
   "execution_count": 58,
   "metadata": {},
   "outputs": [],
   "source": [
    "def DameImpares(nums):\n",
    "    impares = []\n",
    "    for x in nums:\n",
    "        if x%2!=0:\n",
    "            impares.append(x)\n",
    "    return impares"
   ]
  },
  {
   "cell_type": "code",
   "execution_count": 59,
   "metadata": {},
   "outputs": [],
   "source": [
    "ListaImpA = DameImpares(ListaA)\n",
    "ListaImpB = DameImpares(ListaB)"
   ]
  },
  {
   "cell_type": "code",
   "execution_count": 63,
   "metadata": {},
   "outputs": [
    {
     "name": "stdout",
     "output_type": "stream",
     "text": [
      "[3, 7, 9, 1, [13, 21, 17, 11]]\n"
     ]
    }
   ],
   "source": [
    "print(ListaImpA)"
   ]
  },
  {
   "cell_type": "markdown",
   "metadata": {},
   "source": [
    "## 4.- Dadas las variables W = 11, X = 17, Y = 32, Z = 65, crea una función que clasifique por grupos de edad (niño, adolecente, adulto, adulto mayor. (Utiliza el elif) ##"
   ]
  },
  {
   "cell_type": "code",
   "execution_count": 93,
   "metadata": {},
   "outputs": [
    {
     "ename": "SyntaxError",
     "evalue": "invalid syntax (<ipython-input-93-cfcc0ddb434a>, line 2)",
     "output_type": "error",
     "traceback": [
      "\u001b[1;36m  File \u001b[1;32m\"<ipython-input-93-cfcc0ddb434a>\"\u001b[1;36m, line \u001b[1;32m2\u001b[0m\n\u001b[1;33m    if a < b && b < c && c < d\u001b[0m\n\u001b[1;37m              ^\u001b[0m\n\u001b[1;31mSyntaxError\u001b[0m\u001b[1;31m:\u001b[0m invalid syntax\n"
     ]
    }
   ],
   "source": [
    "def Edades(a,b,c,d):\n",
    "    if a < b && b < c && c < d\n",
    "        print(\"Ninio: \", a)\n",
    "        print(\"Adolescente: \", b)\n",
    "        print(\"Adulto: \", c)\n",
    "        print(\"Adulto mayor: \", d)\n",
    "        \n",
    "        "
   ]
  },
  {
   "cell_type": "markdown",
   "metadata": {},
   "source": [
    "Declaramos variables:"
   ]
  },
  {
   "cell_type": "code",
   "execution_count": 89,
   "metadata": {},
   "outputs": [],
   "source": [
    "w = 11\n",
    "x = 17\n",
    "y = 32\n",
    "z = 65"
   ]
  },
  {
   "cell_type": "code",
   "execution_count": 90,
   "metadata": {},
   "outputs": [
    {
     "ename": "NameError",
     "evalue": "name 'Edades' is not defined",
     "output_type": "error",
     "traceback": [
      "\u001b[1;31m---------------------------------------------------------------------------\u001b[0m",
      "\u001b[1;31mNameError\u001b[0m                                 Traceback (most recent call last)",
      "\u001b[1;32m<ipython-input-90-52add1ac6b36>\u001b[0m in \u001b[0;36m<module>\u001b[1;34m\u001b[0m\n\u001b[1;32m----> 1\u001b[1;33m \u001b[0mEdades\u001b[0m\u001b[1;33m(\u001b[0m\u001b[0mw\u001b[0m\u001b[1;33m,\u001b[0m\u001b[0mx\u001b[0m\u001b[1;33m,\u001b[0m\u001b[0my\u001b[0m\u001b[1;33m,\u001b[0m\u001b[0mz\u001b[0m\u001b[1;33m)\u001b[0m\u001b[1;33m\u001b[0m\u001b[1;33m\u001b[0m\u001b[0m\n\u001b[0m",
      "\u001b[1;31mNameError\u001b[0m: name 'Edades' is not defined"
     ]
    }
   ],
   "source": [
    "Edades(w,x,y,z)"
   ]
  },
  {
   "cell_type": "markdown",
   "metadata": {},
   "source": [
    "## 5.- Utilizando cualquiera de las condicionales (for, if, while...) imprime los siguientes patrones tal y como aparecen en el comentario, respetando los espacios y los saltos de renglon.¶##"
   ]
  },
  {
   "cell_type": "code",
   "execution_count": 84,
   "metadata": {},
   "outputs": [],
   "source": [
    "#1 \n",
    "#2 2\n",
    "#3 3 3\n",
    "#4 4 4 4\n",
    "#5 5 5 5 5"
   ]
  },
  {
   "cell_type": "code",
   "execution_count": null,
   "metadata": {},
   "outputs": [],
   "source": [
    "def patron(a):\n",
    "    for y in a:\n",
    "        print"
   ]
  },
  {
   "cell_type": "code",
   "execution_count": 85,
   "metadata": {},
   "outputs": [],
   "source": [
    "#5 4 3 2 1 \n",
    "#4 3 2 1\n",
    "#3 2 1 \n",
    "#2 1\n",
    "#1"
   ]
  },
  {
   "cell_type": "code",
   "execution_count": null,
   "metadata": {},
   "outputs": [],
   "source": []
  },
  {
   "cell_type": "markdown",
   "metadata": {},
   "source": [
    "## 6.- Con la lista A = [3, 2, 7, 4, 12, 9, 6, 1] y el uso de condicionales, imprime una nueva lista con cada uno de los elementos de la lista A, al cuadrado. ##"
   ]
  },
  {
   "cell_type": "markdown",
   "metadata": {},
   "source": [
    "Declaramos la lista:"
   ]
  },
  {
   "cell_type": "code",
   "execution_count": 65,
   "metadata": {},
   "outputs": [],
   "source": [
    "ListA = [3, 2, 7, 4, 12, 9, 6, 1]"
   ]
  },
  {
   "cell_type": "code",
   "execution_count": 82,
   "metadata": {},
   "outputs": [],
   "source": [
    "def Cuadrado(numeros):\n",
    "    cuad = []\n",
    "    for e in numeros:\n",
    "            e = e**2\n",
    "    return cuad\n",
    "\n",
    "ListB = Cuadrado(ListA)"
   ]
  },
  {
   "cell_type": "code",
   "execution_count": 83,
   "metadata": {},
   "outputs": [
    {
     "data": {
      "text/plain": [
       "[]"
      ]
     },
     "execution_count": 83,
     "metadata": {},
     "output_type": "execute_result"
    }
   ],
   "source": [
    "ListB"
   ]
  },
  {
   "cell_type": "markdown",
   "metadata": {},
   "source": [
    "## Preguntas extras ##\n",
    "\n",
    "### Conteste los tres puntos para obtener la totalidad de los puntos.  ###\n",
    "Palabras reservadas en el lenguaje de python:\n",
    "- R: import, append, elif, from, global, class, init, etc\n",
    "\n",
    "Diferencias entre listas y tuplas:\n",
    "- R: Las listas se escriben entre corchetes [], mientras que las tuplas se escriben por parentesis (). Ademas de que en las listas se pueden modificar datos mientras que las tuplas no.\n",
    "\n",
    "Describa para que sirve el condicional ELIF:\n",
    "- R: es el operador condicional que se utiliza para varias condiciones, semejante  al else if.\n",
    "\n"
   ]
  },
  {
   "cell_type": "code",
   "execution_count": null,
   "metadata": {},
   "outputs": [],
   "source": []
  }
 ],
 "metadata": {
  "kernelspec": {
   "display_name": "Python 3",
   "language": "python",
   "name": "python3"
  },
  "language_info": {
   "codemirror_mode": {
    "name": "ipython",
    "version": 3
   },
   "file_extension": ".py",
   "mimetype": "text/x-python",
   "name": "python",
   "nbconvert_exporter": "python",
   "pygments_lexer": "ipython3",
   "version": "3.7.4"
  }
 },
 "nbformat": 4,
 "nbformat_minor": 2
}
